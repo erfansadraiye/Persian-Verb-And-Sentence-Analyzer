{
 "cells": [
  {
   "cell_type": "markdown",
   "metadata": {},
   "source": [
    "\n",
    "<font>\n",
    "<div dir=ltr align=center>\n",
    "<font color=0F5298 size=7>\n",
    "    پردازش زبان طبیعی <br>\n",
    "<font color=2565AE size=5>\n",
    "    دانشکده مهندسی کامپیوتر <br>\n",
    "    پاییز ۱۴۰۲<br>\n",
    "<font color=3C99D size=5>\n",
    "    تمرین عملی دوم <br>"
   ]
  },
  {
   "cell_type": "code",
   "execution_count": null,
   "metadata": {},
   "outputs": [],
   "source": [
    "# Installing necessary libraries\n",
    "!pip install nltk\n",
    "!pip install scikit-learn\n",
    "!pip install matplotlib"
   ]
  },
  {
   "cell_type": "markdown",
   "metadata": {},
   "source": [
    "<font face=\"XB Zar\" size=4><div id=\"title\" dir=rtl>\n",
    "\n",
    "## فهرست مطالب\n",
    "- [مقدمه](#intro)\n",
    "- [تجزیه فعل](#verb)\n",
    "- [تجزیه جمله](#sentence)\n",
    "\n"
   ]
  }
 ],
 "metadata": {
  "kernelspec": {
   "display_name": "nlp",
   "language": "python",
   "name": "python3"
  },
  "language_info": {
   "name": "python",
   "version": "3.11.6"
  }
 },
 "nbformat": 4,
 "nbformat_minor": 2
}
