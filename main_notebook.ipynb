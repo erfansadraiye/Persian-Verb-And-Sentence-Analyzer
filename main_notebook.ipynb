{
 "cells": [
  {
   "cell_type": "markdown",
   "metadata": {},
   "source": [
    "\n",
    "<font>\n",
    "<div dir=ltr align=center>\n",
    "<font color=0F5298 size=7>\n",
    "    پردازش زبان طبیعی <br>\n",
    "<font color=2565AE size=5>\n",
    "    دانشکده مهندسی کامپیوتر <br>\n",
    "    پاییز ۱۴۰۲<br>\n",
    "<font color=3C99D size=5>\n",
    "    تمرین عملی دوم <br>\n",
    "\n",
    "<h4 dir=\"rtl\">\n",
    "    نام و نام‌خانوادگی: عرفان صدرائیه، سینا نمازی، بنیامین ملکی\n",
    "</h4>\n",
    "<h4 dir=\"rtl\">\n",
    "    شماره دانشجویی: ۹۹۱۰۱۸۳۵، ۴۰۰۱۱۰۱۵۴، ۹۹۱۰۲۲۸۶\n",
    "</h4>"
   ]
  },
  {
   "cell_type": "markdown",
   "metadata": {},
   "source": [
    "<font face=\"XB Zar\" size=4><div id=\"title\" dir=rtl>\n",
    "\n",
    "## فهرست مطالب\n",
    "- [مقدمه](#intro)\n",
    "- [تجزیه فعل](#verb)\n",
    "- [تجزیه جمله](#sentence)\n",
    "\n"
   ]
  },
  {
   "cell_type": "markdown",
   "metadata": {},
   "source": [
    "<font face=\"XB Zar\" size=4><div id=\"intro\" dir=rtl>\n",
    "\n",
    "## [مقدمه](#title)\n",
    "\n",
    "در این تمرین قصد داریم script ای بنویسیم که با در یافت یک جمله اطلاعاتی در مورد اجزای آن جمله و به ویژه فعل آن به ما می دهد. \n",
    "\n",
    "از جمله اطلاعات خروجی می توان به موارد زیر اشاره کرد:\n",
    "- بازه های قرار گیری فعل در جمله\n",
    "- نهاد جمله\n",
    "- مفعول جمله\n",
    "- اطلاعاتی در مورد فعل جمله از جمله مصدر٬  ساختار فعل٬ زمان و نوع فعل و شخص فعل\n",
    "\n",
    "به طور کلی وظایف script را می توان به دو بخش تجزیه فعل و تجزیه جمله تقسیم کرد که در ادامه درباره هر بخش و نحوه عملکرد آن توضیحاتی خواهیم داد."
   ]
  },
  {
   "cell_type": "markdown",
   "metadata": {},
   "source": [
    "<font face=\"XB Zar\" size=4><div id=\"verb\" dir=rtl>\n",
    "\n",
    "## [تجزیه فعل](#title)\n",
    "\n",
    "برای این بخش در ابتدا نیاز به بن ماضی و مضارع افعال داریم که همانطور که در متن تمرین آمده از مجموعه داده پیکره دادگان برای این بخش استفاده کردیم و بن های ماضی و مضارع افعال به همراه مصدرشان را استخراج کردیم.\n",
    "\n",
    "علاوه بر این به مجموعه پیشوند های افعال نیز نیاز داریم که به دلیل نبود آن در مجموعه پیکره دادگان از پیشوند هایی که در صفحه ویکیپدیای فارسی فعل های پیشوندی وجود دارد٬ استفاده کردیم.\n",
    "\n",
    "سپس با توجه با ساختار فعل های گذشته٬ حال و آینده عبارات منظم مربوط به هر نوع فعل را نوشتیم تا هر کدام با فعل مورد نظر تطابق داشت آن را تشخیص دهیم.\n",
    "\n",
    "البته در هنگام نوشتن این عبارات منظم به نکته ها و چالش هایی از جمله منفی بودن فعل٬ وجود <یای میانجی> در فعل ٬ وجود فاصله به جای نیم فاصله و ... توجه داشتیم و سعی کردیم تا جای ممکن این عبارات منظم همه این موارد را پوشش دهند. البته که تنها با در دسترس داشتن فعل نمی توان همه اطلاعات مورد نیاز را داشت و گاهی نیز بیش از یک تطابق اتفاق می افتد که در ادامه با توجه به بقیه اجزای جمله بهترین گزینه انتخاب خواهد شد."
   ]
  },
  {
   "cell_type": "markdown",
   "metadata": {},
   "source": [
    "<font face=\"XB Zar\" size=4><div id=\"sentence\" dir=rtl>\n",
    "\n",
    "## [تجزیه جمله](#title)\n",
    "\n",
    "<div dir=\"rtl\">\n",
    "برای تجزیه و تحلیل جملات ابتدا عبارت ورودی را به کمک توکنایزر جملات هضم تقسیم می‌کنیم و سپس به کمک حالت چانک‌شده‌ی این زیرجملات، بررسی می‌کنیم که اگر در آن‌ها حروف ربط وجود داشت مجددا این جملات را به زیرجملاتی بشکاند. این تلاش برای این است که جملاتی که در نهایت تحلیل می‌کنیم به فرمت ساده‌ای باشند و بتوان فعل‌های آن‌ها و به طور کلی ساختار داخلی‌شان را راحت‌تر شناسایی کرد.   \n",
    "</div>\n",
    "\n",
    "<div dir=\"rtl\">\n",
    "سپس با دو روش جملات را برای تحلیل آماده می‌کنیم.\n",
    "</div>\n",
    "\n",
    "<h3 dir=\"rtl\">\n",
    "استفاده از Dependency Parser\n",
    "</h3> \n",
    "\n",
    "<div dir=\"rtl\">\n",
    "به کمک این گراف می‌توانیم نهاد‌(در صورت وجود)، مفعول (در صورت وجود) و فعل‌های جمله را شناسایی کنیم.\n",
    "در این روش صرفا لازم است که برای تشکیل گروه‌های اسمی و فعلی به depهای آن نگاه کنیم و بخش‌های مختلف گروه کلمه‌ای آن را به هم بچسبانیم.\n",
    "البته این روش برای گروه‌های اسمی نیازمند پیاده‌سازی بازگشتی بود و به همین علت صرفا برای گروه‌های فعلی استفاده کردیم. همچنین در تشخیص نهاد نیز از این روش استفاده کردیم.\n",
    "</div>\n",
    "    \n",
    "<h3 dir=\"rtl\">\n",
    "استفاده از Chunker\n",
    "</h3>\n",
    "\n",
    "<div dir=\"rtl\">\n",
    "در این روش ابتدا به کمک POS Tagger \n",
    "جملات را تگ می‌زنیم. سپس جمله‌ی تگ‌زد‌ه‌شده را به \n",
    "Chunker\n",
    "می‌دهیم و درخت حاصل را به رشته‌ای تبدیل می‌کنیم که گروه‌های اسمی و فعلی در آن انوتیت شده باشد. سپس به کمک یک رول رجکسی می‌توانیم مفعول را بیابیم. در این روش همچنین، گروه‌های اسمی با دقت و جزییات بیشتری مشخص می‌شوند.\n",
    "در مجموع به کمک اطلاعات جمع‌آوری شده از  دو روش قبلی اطلاعاتی از اجزای جمله استخراج می‌کنیم و این‌ها در ماژول verb_scanner استفاده خواهند شد.\n",
    "</div>\n",
    "  \n"
   ]
  },
  {
   "cell_type": "code",
   "execution_count": 3,
   "metadata": {},
   "outputs": [
    {
     "name": "stdout",
     "output_type": "stream",
     "text": [
      "Defaulting to user installation because normal site-packages is not writeable\n",
      "Collecting nltk\n",
      "  Using cached nltk-3.8.1-py3-none-any.whl (1.5 MB)\n",
      "Collecting click (from nltk)\n",
      "  Using cached click-8.1.7-py3-none-any.whl.metadata (3.0 kB)\n",
      "Collecting joblib (from nltk)\n",
      "  Using cached joblib-1.3.2-py3-none-any.whl.metadata (5.4 kB)\n",
      "Collecting regex>=2021.8.3 (from nltk)\n",
      "  Using cached regex-2023.10.3-cp39-cp39-macosx_11_0_arm64.whl.metadata (40 kB)\n",
      "Collecting tqdm (from nltk)\n",
      "  Using cached tqdm-4.66.1-py3-none-any.whl.metadata (57 kB)\n",
      "Using cached regex-2023.10.3-cp39-cp39-macosx_11_0_arm64.whl (291 kB)\n",
      "Using cached click-8.1.7-py3-none-any.whl (97 kB)\n",
      "Using cached joblib-1.3.2-py3-none-any.whl (302 kB)\n",
      "Using cached tqdm-4.66.1-py3-none-any.whl (78 kB)\n",
      "Installing collected packages: tqdm, regex, joblib, click, nltk\n",
      "\u001b[33m  WARNING: The script tqdm is installed in '/Users/smartech/Library/Python/3.9/bin' which is not on PATH.\n",
      "  Consider adding this directory to PATH or, if you prefer to suppress this warning, use --no-warn-script-location.\u001b[0m\u001b[33m\n",
      "\u001b[0m\u001b[33m  WARNING: The script nltk is installed in '/Users/smartech/Library/Python/3.9/bin' which is not on PATH.\n",
      "  Consider adding this directory to PATH or, if you prefer to suppress this warning, use --no-warn-script-location.\u001b[0m\u001b[33m\n",
      "\u001b[0mSuccessfully installed click-8.1.7 joblib-1.3.2 nltk-3.8.1 regex-2023.10.3 tqdm-4.66.1\n",
      "Defaulting to user installation because normal site-packages is not writeable\n",
      "Collecting hazm\n",
      "  Using cached hazm-0.9.4-py3-none-any.whl.metadata (8.2 kB)\n",
      "Collecting fasttext-wheel<0.10.0,>=0.9.2 (from hazm)\n",
      "  Using cached fasttext_wheel-0.9.2-cp39-cp39-macosx_11_0_arm64.whl (327 kB)\n",
      "Collecting flashtext<3.0,>=2.7 (from hazm)\n",
      "  Using cached flashtext-2.7-py2.py3-none-any.whl\n",
      "Collecting gensim<5.0.0,>=4.3.1 (from hazm)\n",
      "  Using cached gensim-4.3.2-cp39-cp39-macosx_11_0_arm64.whl.metadata (8.5 kB)\n",
      "Requirement already satisfied: nltk<4.0.0,>=3.8.1 in /Users/smartech/Library/Python/3.9/lib/python/site-packages (from hazm) (3.8.1)\n",
      "Collecting numpy==1.24.3 (from hazm)\n",
      "  Using cached numpy-1.24.3-cp39-cp39-macosx_11_0_arm64.whl (13.9 MB)\n",
      "Collecting python-crfsuite<0.10.0,>=0.9.9 (from hazm)\n",
      "  Using cached python_crfsuite-0.9.9-cp39-cp39-macosx_10_9_universal2.whl\n",
      "Collecting scikit-learn<2.0.0,>=1.2.2 (from hazm)\n",
      "  Using cached scikit_learn-1.3.2-cp39-cp39-macosx_12_0_arm64.whl.metadata (11 kB)\n",
      "Collecting pybind11>=2.2 (from fasttext-wheel<0.10.0,>=0.9.2->hazm)\n",
      "  Using cached pybind11-2.11.1-py3-none-any.whl.metadata (9.5 kB)\n",
      "Requirement already satisfied: setuptools>=0.7.0 in /Library/Developer/CommandLineTools/Library/Frameworks/Python3.framework/Versions/3.9/lib/python3.9/site-packages (from fasttext-wheel<0.10.0,>=0.9.2->hazm) (58.0.4)\n",
      "Collecting scipy>=1.7.0 (from gensim<5.0.0,>=4.3.1->hazm)\n",
      "  Using cached scipy-1.11.4-cp39-cp39-macosx_12_0_arm64.whl.metadata (60 kB)\n",
      "Collecting smart-open>=1.8.1 (from gensim<5.0.0,>=4.3.1->hazm)\n",
      "  Using cached smart_open-6.4.0-py3-none-any.whl.metadata (21 kB)\n",
      "Requirement already satisfied: click in /Users/smartech/Library/Python/3.9/lib/python/site-packages (from nltk<4.0.0,>=3.8.1->hazm) (8.1.7)\n",
      "Requirement already satisfied: joblib in /Users/smartech/Library/Python/3.9/lib/python/site-packages (from nltk<4.0.0,>=3.8.1->hazm) (1.3.2)\n",
      "Requirement already satisfied: regex>=2021.8.3 in /Users/smartech/Library/Python/3.9/lib/python/site-packages (from nltk<4.0.0,>=3.8.1->hazm) (2023.10.3)\n",
      "Requirement already satisfied: tqdm in /Users/smartech/Library/Python/3.9/lib/python/site-packages (from nltk<4.0.0,>=3.8.1->hazm) (4.66.1)\n",
      "Collecting threadpoolctl>=2.0.0 (from scikit-learn<2.0.0,>=1.2.2->hazm)\n",
      "  Using cached threadpoolctl-3.2.0-py3-none-any.whl.metadata (10.0 kB)\n",
      "Using cached hazm-0.9.4-py3-none-any.whl (371 kB)\n",
      "Using cached gensim-4.3.2-cp39-cp39-macosx_11_0_arm64.whl (24.0 MB)\n",
      "Using cached scikit_learn-1.3.2-cp39-cp39-macosx_12_0_arm64.whl (9.5 MB)\n",
      "Using cached pybind11-2.11.1-py3-none-any.whl (227 kB)\n",
      "Using cached scipy-1.11.4-cp39-cp39-macosx_12_0_arm64.whl (29.7 MB)\n",
      "Using cached smart_open-6.4.0-py3-none-any.whl (57 kB)\n",
      "Using cached threadpoolctl-3.2.0-py3-none-any.whl (15 kB)\n",
      "Installing collected packages: python-crfsuite, flashtext, threadpoolctl, smart-open, pybind11, numpy, scipy, fasttext-wheel, scikit-learn, gensim, hazm\n",
      "\u001b[33m  WARNING: The script pybind11-config is installed in '/Users/smartech/Library/Python/3.9/bin' which is not on PATH.\n",
      "  Consider adding this directory to PATH or, if you prefer to suppress this warning, use --no-warn-script-location.\u001b[0m\u001b[33m\n",
      "\u001b[0m\u001b[33m  WARNING: The scripts f2py, f2py3 and f2py3.9 are installed in '/Users/smartech/Library/Python/3.9/bin' which is not on PATH.\n",
      "  Consider adding this directory to PATH or, if you prefer to suppress this warning, use --no-warn-script-location.\u001b[0m\u001b[33m\n",
      "\u001b[0mSuccessfully installed fasttext-wheel-0.9.2 flashtext-2.7 gensim-4.3.2 hazm-0.9.4 numpy-1.24.3 pybind11-2.11.1 python-crfsuite-0.9.9 scikit-learn-1.3.2 scipy-1.11.4 smart-open-6.4.0 threadpoolctl-3.2.0\n",
      "Defaulting to user installation because normal site-packages is not writeable\n",
      "Collecting gdown\n",
      "  Downloading gdown-4.7.1-py3-none-any.whl (15 kB)\n",
      "Requirement already satisfied: filelock in /Users/smartech/Library/Python/3.9/lib/python/site-packages (from gdown) (3.13.1)\n",
      "Requirement already satisfied: requests[socks] in /Users/smartech/Library/Python/3.9/lib/python/site-packages (from gdown) (2.31.0)\n",
      "Requirement already satisfied: six in /Library/Developer/CommandLineTools/Library/Frameworks/Python3.framework/Versions/3.9/lib/python3.9/site-packages (from gdown) (1.15.0)\n",
      "Requirement already satisfied: tqdm in /Users/smartech/Library/Python/3.9/lib/python/site-packages (from gdown) (4.66.1)\n",
      "Requirement already satisfied: beautifulsoup4 in /Users/smartech/Library/Python/3.9/lib/python/site-packages (from gdown) (4.12.2)\n",
      "Requirement already satisfied: soupsieve>1.2 in /Users/smartech/Library/Python/3.9/lib/python/site-packages (from beautifulsoup4->gdown) (2.5)\n",
      "Requirement already satisfied: charset-normalizer<4,>=2 in /Users/smartech/Library/Python/3.9/lib/python/site-packages (from requests[socks]->gdown) (3.3.2)\n",
      "Requirement already satisfied: idna<4,>=2.5 in /Users/smartech/Library/Python/3.9/lib/python/site-packages (from requests[socks]->gdown) (3.4)\n",
      "Requirement already satisfied: urllib3<3,>=1.21.1 in /Users/smartech/Library/Python/3.9/lib/python/site-packages (from requests[socks]->gdown) (1.26.18)\n",
      "Requirement already satisfied: certifi>=2017.4.17 in /Users/smartech/Library/Python/3.9/lib/python/site-packages (from requests[socks]->gdown) (2023.7.22)\n",
      "Requirement already satisfied: PySocks!=1.5.7,>=1.5.6 in /Users/smartech/Library/Python/3.9/lib/python/site-packages (from requests[socks]->gdown) (1.7.1)\n",
      "Installing collected packages: gdown\n",
      "\u001b[33m  WARNING: The script gdown is installed in '/Users/smartech/Library/Python/3.9/bin' which is not on PATH.\n",
      "  Consider adding this directory to PATH or, if you prefer to suppress this warning, use --no-warn-script-location.\u001b[0m\u001b[33m\n",
      "\u001b[0mSuccessfully installed gdown-4.7.1\n"
     ]
    }
   ],
   "source": [
    "# Installing necessary libraries\n",
    "!python3 -m pip install nltk \n",
    "!python3 -m pip install hazm\n",
    "!python3 -m pip install gdown"
   ]
  },
  {
   "cell_type": "code",
   "execution_count": null,
   "metadata": {},
   "outputs": [],
   "source": [
    "#download pos tagger\n",
    "!gdown \"https://drive.google.com/u/0/uc?id=1Q3JK4NVUC2t5QT63aDiVrCRBV225E_B3&export=download\""
   ]
  },
  {
   "cell_type": "code",
   "execution_count": null,
   "metadata": {},
   "outputs": [],
   "source": [
    "#download dependency parser\n",
    "!gdown \"https://drive.google.com/u/0/uc?id=1MDapMSUXYfmQlu0etOAkgP5KDiWrNAV6&export=download\"\n",
    "!unzip universal_dependency_parser.zip"
   ]
  },
  {
   "cell_type": "code",
   "execution_count": null,
   "metadata": {},
   "outputs": [],
   "source": [
    "#download chunker\n",
    "!gdown \"https://drive.google.com/u/0/uc?id=16hlAb_h7xdlxF4Ukhqk_fOV3g7rItVtk&export=download\""
   ]
  },
  {
   "cell_type": "code",
   "execution_count": null,
   "metadata": {},
   "outputs": [],
   "source": [
    "# Download infinitive.txt file\n",
    "!gdown \"https://drive.google.com/u/0/uc?id=1w13LSwIcV8ypkMtGMd5O5gsqFpjBnJGm&export=download\""
   ]
  },
  {
   "cell_type": "code",
   "execution_count": 4,
   "metadata": {},
   "outputs": [],
   "source": [
    "from main import run"
   ]
  },
  {
   "cell_type": "code",
   "execution_count": 5,
   "metadata": {},
   "outputs": [
    {
     "name": "stderr",
     "output_type": "stream",
     "text": [
      "/Users/smartech/Library/Python/3.9/lib/python/site-packages/nltk/parse/dependencygraph.py:376: UserWarning: The graph doesn't contain a node that depends on the root element.\n",
      "  warnings.warn(\n"
     ]
    },
    {
     "data": {
      "text/plain": [
       "[{'verb': {'span': [(3, 8), (22, 31)],\n",
       "   'root': 'داشتن',\n",
       "   'structure': 'prefixed',\n",
       "   'person': 'اول شخص مفرد',\n",
       "   'tense': 'گذشته ملموس',\n",
       "   'prefix': 'بر'},\n",
       "  'subject phrase': 'من',\n",
       "  'object phrase': 'شیشه مربا'}]"
      ]
     },
     "execution_count": 5,
     "metadata": {},
     "output_type": "execute_result"
    }
   ],
   "source": [
    "run(\"من داشتم شیشه مربا را برمیداشتم\")"
   ]
  },
  {
   "cell_type": "code",
   "execution_count": 6,
   "metadata": {},
   "outputs": [
    {
     "name": "stderr",
     "output_type": "stream",
     "text": [
      "/Users/smartech/Library/Python/3.9/lib/python/site-packages/nltk/parse/dependencygraph.py:376: UserWarning: The graph doesn't contain a node that depends on the root element.\n",
      "  warnings.warn(\n"
     ]
    },
    {
     "data": {
      "text/plain": [
       "[{'verb': {'span': [(20, 28)],\n",
       "   'root': 'افتادن',\n",
       "   'structure': 'prefixed',\n",
       "   'person': 'سوم شخص مفرد',\n",
       "   'tense': 'گذشته ساده',\n",
       "   'prefix': 'پس'},\n",
       "  'subject phrase': 'او',\n",
       "  'object phrase': None}]"
      ]
     },
     "execution_count": 6,
     "metadata": {},
     "output_type": "execute_result"
    }
   ],
   "source": [
    "run(\"او در راه از رقبایش پس‌افتاد\")"
   ]
  },
  {
   "cell_type": "code",
   "execution_count": 7,
   "metadata": {},
   "outputs": [
    {
     "name": "stderr",
     "output_type": "stream",
     "text": [
      "/Users/smartech/Library/Python/3.9/lib/python/site-packages/nltk/parse/dependencygraph.py:376: UserWarning: The graph doesn't contain a node that depends on the root element.\n",
      "  warnings.warn(\n"
     ]
    },
    {
     "data": {
      "text/plain": [
       "[{'verb': {'span': [(19, 27)],\n",
       "   'root': 'گفتن',\n",
       "   'structure': 'simple',\n",
       "   'person': 'سوم شخص مفرد',\n",
       "   'tense': 'گذشته دور',\n",
       "   'prefix': None},\n",
       "  'subject phrase': 'فرمانده',\n",
       "  'object phrase': None},\n",
       " {'verb': {'span': [(43, 53)],\n",
       "   'root': 'بردن',\n",
       "   'structure': 'simple',\n",
       "   'person': 'اول شخص جمع',\n",
       "   'tense': 'آینده ساده',\n",
       "   'prefix': None},\n",
       "  'subject phrase': 'ما',\n",
       "  'object phrase': 'جنگ'}]"
      ]
     },
     "execution_count": 7,
     "metadata": {},
     "output_type": "execute_result"
    }
   ],
   "source": [
    "run(\"فرمانده به سربازها گفته بود،‌ که ما جنگ را خواهیم برد\")"
   ]
  },
  {
   "cell_type": "code",
   "execution_count": 21,
   "metadata": {},
   "outputs": [
    {
     "name": "stderr",
     "output_type": "stream",
     "text": [
      "/Users/smartech/Library/Python/3.9/lib/python/site-packages/nltk/parse/dependencygraph.py:376: UserWarning: The graph doesn't contain a node that depends on the root element.\n",
      "  warnings.warn(\n"
     ]
    },
    {
     "data": {
      "text/plain": [
       "[{'verb': {'span': [(13, 18)],\n",
       "   'root': 'رفتن',\n",
       "   'structure': 'simple',\n",
       "   'person': 'اول شخص جمع',\n",
       "   'tense': 'حال التزامی',\n",
       "   'prefix': None},\n",
       "  'subject phrase': None,\n",
       "  'object phrase': None}]"
      ]
     },
     "execution_count": 21,
     "metadata": {},
     "output_type": "execute_result"
    }
   ],
   "source": [
    "run(\" اگر به پارک نرویم\")"
   ]
  },
  {
   "cell_type": "code",
   "execution_count": 9,
   "metadata": {},
   "outputs": [
    {
     "name": "stderr",
     "output_type": "stream",
     "text": [
      "/Users/smartech/Library/Python/3.9/lib/python/site-packages/nltk/parse/dependencygraph.py:376: UserWarning: The graph doesn't contain a node that depends on the root element.\n",
      "  warnings.warn(\n"
     ]
    },
    {
     "data": {
      "text/plain": [
       "[{'verb': {'span': [(12, 20)],\n",
       "   'root': 'خواندن',\n",
       "   'structure': 'simple',\n",
       "   'person': 'اول شخص مفرد',\n",
       "   'tense': 'گذشته ساده',\n",
       "   'prefix': None},\n",
       "  'subject phrase': 'من',\n",
       "  'object phrase': 'کتابم'}]"
      ]
     },
     "execution_count": 9,
     "metadata": {},
     "output_type": "execute_result"
    }
   ],
   "source": [
    "run(\"من کتابم را نخواندیم\")"
   ]
  },
  {
   "cell_type": "code",
   "execution_count": 10,
   "metadata": {},
   "outputs": [
    {
     "name": "stderr",
     "output_type": "stream",
     "text": [
      "/Users/smartech/Library/Python/3.9/lib/python/site-packages/nltk/parse/dependencygraph.py:376: UserWarning: The graph doesn't contain a node that depends on the root element.\n",
      "  warnings.warn(\n"
     ]
    },
    {
     "data": {
      "text/plain": [
       "[{'verb': {'span': [(16, 26)],\n",
       "   'root': 'جبران کردن',\n",
       "   'structure': 'compound',\n",
       "   'person': 'اول شخص مفرد',\n",
       "   'tense': 'گذشته ساده',\n",
       "   'prefix': None},\n",
       "  'subject phrase': 'من',\n",
       "  'object phrase': 'اشتباهاتم'}]"
      ]
     },
     "execution_count": 10,
     "metadata": {},
     "output_type": "execute_result"
    }
   ],
   "source": [
    "run(\"من اشتباهاتم را جبران کردم\")"
   ]
  },
  {
   "cell_type": "code",
   "execution_count": 11,
   "metadata": {},
   "outputs": [
    {
     "name": "stderr",
     "output_type": "stream",
     "text": [
      "/Users/smartech/Library/Python/3.9/lib/python/site-packages/nltk/parse/dependencygraph.py:376: UserWarning: The graph doesn't contain a node that depends on the root element.\n",
      "  warnings.warn(\n"
     ]
    },
    {
     "data": {
      "text/plain": [
       "[{'verb': {'span': [(17, 23)],\n",
       "   'root': 'آمدن',\n",
       "   'structure': 'simple',\n",
       "   'person': 'سوم شخص مفرد',\n",
       "   'tense': 'حال اخباری',\n",
       "   'prefix': None},\n",
       "  'subject phrase': 'غلامرضا',\n",
       "  'object phrase': None}]"
      ]
     },
     "execution_count": 11,
     "metadata": {},
     "output_type": "execute_result"
    }
   ],
   "source": [
    "run(\"غلامرضا از مدرسه می‌آید\")"
   ]
  },
  {
   "cell_type": "code",
   "execution_count": 25,
   "metadata": {},
   "outputs": [
    {
     "name": "stderr",
     "output_type": "stream",
     "text": [
      "/Users/smartech/Library/Python/3.9/lib/python/site-packages/nltk/parse/dependencygraph.py:376: UserWarning: The graph doesn't contain a node that depends on the root element.\n",
      "  warnings.warn(\n",
      "/Users/smartech/Library/Python/3.9/lib/python/site-packages/nltk/parse/dependencygraph.py:376: UserWarning: The graph doesn't contain a node that depends on the root element.\n",
      "  warnings.warn(\n"
     ]
    },
    {
     "data": {
      "text/plain": [
       "[{'verb': {'span': [(9, 19)],\n",
       "   'root': 'اذیت کردن',\n",
       "   'structure': 'compound',\n",
       "   'person': 'دوم شخص جمع',\n",
       "   'tense': 'حال التزامی',\n",
       "   'prefix': None},\n",
       "  'subject phrase': None,\n",
       "  'object phrase': 'گل من'},\n",
       " {'verb': {'span': [(14, 19)],\n",
       "   'root': 'کردن',\n",
       "   'structure': 'simple',\n",
       "   'person': 'دوم شخص جمع',\n",
       "   'tense': 'حال التزامی',\n",
       "   'prefix': None},\n",
       "  'subject phrase': None,\n",
       "  'object phrase': 'چشم\\u200cهایش'}]"
      ]
     },
     "execution_count": 25,
     "metadata": {},
     "output_type": "execute_result"
    }
   ],
   "source": [
    "run(\"گل من را اذیت نکنید. بعد از من چشم‌هایش را تر نکنید\")"
   ]
  },
  {
   "cell_type": "code",
   "execution_count": 12,
   "metadata": {},
   "outputs": [
    {
     "name": "stderr",
     "output_type": "stream",
     "text": [
      "/Users/smartech/Library/Python/3.9/lib/python/site-packages/nltk/parse/dependencygraph.py:376: UserWarning: The graph doesn't contain a node that depends on the root element.\n",
      "  warnings.warn(\n"
     ]
    },
    {
     "data": {
      "text/plain": [
       "[{'verb': {'span': [(13, 23)],\n",
       "   'root': 'رفتن',\n",
       "   'structure': 'simple',\n",
       "   'person': 'دوم شخص جمع',\n",
       "   'tense': 'آینده ساده',\n",
       "   'prefix': None},\n",
       "  'subject phrase': 'شما',\n",
       "  'object phrase': None}]"
      ]
     },
     "execution_count": 12,
     "metadata": {},
     "output_type": "execute_result"
    }
   ],
   "source": [
    "run(\"شما به مدرسه خواهید رفت\")"
   ]
  },
  {
   "cell_type": "code",
   "execution_count": 13,
   "metadata": {},
   "outputs": [
    {
     "name": "stderr",
     "output_type": "stream",
     "text": [
      "/Users/smartech/Library/Python/3.9/lib/python/site-packages/nltk/parse/dependencygraph.py:376: UserWarning: The graph doesn't contain a node that depends on the root element.\n",
      "  warnings.warn(\n"
     ]
    },
    {
     "data": {
      "text/plain": [
       "[{'verb': {'span': [(22, 30)],\n",
       "   'root': 'روییدن',\n",
       "   'structure': 'simple',\n",
       "   'person': 'سوم شخص مفرد',\n",
       "   'tense': 'گذشته پیوسته',\n",
       "   'prefix': None},\n",
       "  'subject phrase': 'گل نرگس',\n",
       "  'object phrase': None}]"
      ]
     },
     "execution_count": 13,
     "metadata": {},
     "output_type": "execute_result"
    }
   ],
   "source": [
    "run(\"گل نرگس در فصل زمستان می‌رویید\")"
   ]
  },
  {
   "cell_type": "code",
   "execution_count": 14,
   "metadata": {},
   "outputs": [
    {
     "name": "stderr",
     "output_type": "stream",
     "text": [
      "/Users/smartech/Library/Python/3.9/lib/python/site-packages/nltk/parse/dependencygraph.py:376: UserWarning: The graph doesn't contain a node that depends on the root element.\n",
      "  warnings.warn(\n"
     ]
    },
    {
     "data": {
      "text/plain": [
       "[{'verb': {'span': [(9, 20)],\n",
       "   'root': 'کمک کردن',\n",
       "   'structure': 'compound',\n",
       "   'person': 'اول شخص مفرد',\n",
       "   'tense': 'گذشته زنده',\n",
       "   'prefix': None},\n",
       "  'subject phrase': 'من',\n",
       "  'object phrase': None}]"
      ]
     },
     "execution_count": 14,
     "metadata": {},
     "output_type": "execute_result"
    }
   ],
   "source": [
    "run(\"من به او کمک کرده‌ام\")"
   ]
  },
  {
   "cell_type": "code",
   "execution_count": 15,
   "metadata": {},
   "outputs": [
    {
     "data": {
      "text/plain": [
       "[{'verb': {'span': [(3, 10)],\n",
       "   'root': 'روییدن',\n",
       "   'structure': 'simple',\n",
       "   'person': 'سوم شخص مفرد',\n",
       "   'tense': 'گذشته پیوسته',\n",
       "   'prefix': None},\n",
       "  'subject phrase': 'گل',\n",
       "  'object phrase': None}]"
      ]
     },
     "execution_count": 15,
     "metadata": {},
     "output_type": "execute_result"
    }
   ],
   "source": [
    "run(\"گل میرویید ز باغ\")"
   ]
  },
  {
   "cell_type": "code",
   "execution_count": 22,
   "metadata": {},
   "outputs": [
    {
     "name": "stderr",
     "output_type": "stream",
     "text": [
      "/Users/smartech/Library/Python/3.9/lib/python/site-packages/nltk/parse/dependencygraph.py:376: UserWarning: The graph doesn't contain a node that depends on the root element.\n",
      "  warnings.warn(\n",
      "/Users/smartech/Library/Python/3.9/lib/python/site-packages/nltk/parse/dependencygraph.py:376: UserWarning: The graph doesn't contain a node that depends on the root element.\n",
      "  warnings.warn(\n"
     ]
    },
    {
     "data": {
      "text/plain": [
       "[{'verb': {'span': [(10, 15)],\n",
       "   'root': 'بودن',\n",
       "   'structure': 'simple',\n",
       "   'person': 'اول شخص جمع',\n",
       "   'tense': 'گذشته ساده',\n",
       "   'prefix': None},\n",
       "  'subject phrase': 'ما',\n",
       "  'object phrase': None},\n",
       " {'verb': {'span': [(29, 35)],\n",
       "   'root': 'رفتن',\n",
       "   'structure': 'simple',\n",
       "   'person': 'اول شخص جمع',\n",
       "   'tense': 'گذشته ساده',\n",
       "   'prefix': None},\n",
       "  'subject phrase': None,\n",
       "  'object phrase': None}]"
      ]
     },
     "execution_count": 22,
     "metadata": {},
     "output_type": "execute_result"
    }
   ],
   "source": [
    "run(\"ما ناراحت بودیم زیرا به پارک نرفتیم\")"
   ]
  }
 ],
 "metadata": {
  "kernelspec": {
   "display_name": "Python 3 (ipykernel)",
   "language": "python",
   "name": "python3"
  },
  "language_info": {
   "codemirror_mode": {
    "name": "ipython",
    "version": 3
   },
   "file_extension": ".py",
   "mimetype": "text/x-python",
   "name": "python",
   "nbconvert_exporter": "python",
   "pygments_lexer": "ipython3",
   "version": "3.9.6"
  }
 },
 "nbformat": 4,
 "nbformat_minor": 4
}
